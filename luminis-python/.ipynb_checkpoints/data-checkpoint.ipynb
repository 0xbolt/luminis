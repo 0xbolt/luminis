{
 "cells": [
  {
   "cell_type": "code",
   "execution_count": 24,
   "metadata": {},
   "outputs": [],
   "source": [
    "import os\n",
    "import pandas as pd\n",
    "import numpy as np\n",
    "\n",
    "from utils import *"
   ]
  },
  {
   "cell_type": "code",
   "execution_count": 25,
   "metadata": {},
   "outputs": [],
   "source": [
    "cf4_df = read_csv('cosmicflow.csv')"
   ]
  },
  {
   "cell_type": "code",
   "execution_count": 26,
   "metadata": {},
   "outputs": [],
   "source": [
    "df = cf4_df.copy()"
   ]
  },
  {
   "cell_type": "code",
   "execution_count": 29,
   "metadata": {},
   "outputs": [
    {
     "data": {
      "text/html": [
       "<div>\n",
       "<style scoped>\n",
       "    .dataframe tbody tr th:only-of-type {\n",
       "        vertical-align: middle;\n",
       "    }\n",
       "\n",
       "    .dataframe tbody tr th {\n",
       "        vertical-align: top;\n",
       "    }\n",
       "\n",
       "    .dataframe thead th {\n",
       "        text-align: right;\n",
       "    }\n",
       "</style>\n",
       "<table border=\"1\" class=\"dataframe\">\n",
       "  <thead>\n",
       "    <tr style=\"text-align: right;\">\n",
       "      <th></th>\n",
       "      <th>max</th>\n",
       "      <th>min</th>\n",
       "      <th>std</th>\n",
       "      <th>mean</th>\n",
       "    </tr>\n",
       "  </thead>\n",
       "  <tbody>\n",
       "    <tr>\n",
       "      <th>x</th>\n",
       "      <td>226.2800</td>\n",
       "      <td>-223.9500</td>\n",
       "      <td>62.333418</td>\n",
       "      <td>4.898025</td>\n",
       "    </tr>\n",
       "    <tr>\n",
       "      <th>y</th>\n",
       "      <td>287.6300</td>\n",
       "      <td>-242.3300</td>\n",
       "      <td>96.671651</td>\n",
       "      <td>93.029230</td>\n",
       "    </tr>\n",
       "    <tr>\n",
       "      <th>z</th>\n",
       "      <td>268.0900</td>\n",
       "      <td>-269.6000</td>\n",
       "      <td>83.671305</td>\n",
       "      <td>4.502106</td>\n",
       "    </tr>\n",
       "    <tr>\n",
       "      <th>w</th>\n",
       "      <td>39.6490</td>\n",
       "      <td>18.4690</td>\n",
       "      <td>1.778639</td>\n",
       "      <td>36.191395</td>\n",
       "    </tr>\n",
       "    <tr>\n",
       "      <th>ra</th>\n",
       "      <td>359.9976</td>\n",
       "      <td>0.0070</td>\n",
       "      <td>72.151902</td>\n",
       "      <td>181.423980</td>\n",
       "    </tr>\n",
       "    <tr>\n",
       "      <th>dec</th>\n",
       "      <td>88.1368</td>\n",
       "      <td>-89.3346</td>\n",
       "      <td>29.293424</td>\n",
       "      <td>14.212146</td>\n",
       "    </tr>\n",
       "    <tr>\n",
       "      <th>redshift</th>\n",
       "      <td>NaN</td>\n",
       "      <td>NaN</td>\n",
       "      <td>NaN</td>\n",
       "      <td>NaN</td>\n",
       "    </tr>\n",
       "    <tr>\n",
       "      <th>dist</th>\n",
       "      <td>289.4550</td>\n",
       "      <td>0.0000</td>\n",
       "      <td>78.985235</td>\n",
       "      <td>150.637063</td>\n",
       "    </tr>\n",
       "  </tbody>\n",
       "</table>\n",
       "</div>"
      ],
      "text/plain": [
       "               max       min        std        mean\n",
       "x         226.2800 -223.9500  62.333418    4.898025\n",
       "y         287.6300 -242.3300  96.671651   93.029230\n",
       "z         268.0900 -269.6000  83.671305    4.502106\n",
       "w          39.6490   18.4690   1.778639   36.191395\n",
       "ra        359.9976    0.0070  72.151902  181.423980\n",
       "dec        88.1368  -89.3346  29.293424   14.212146\n",
       "redshift       NaN       NaN        NaN         NaN\n",
       "dist      289.4550    0.0000  78.985235  150.637063"
      ]
     },
     "execution_count": 29,
     "metadata": {},
     "output_type": "execute_result"
    }
   ],
   "source": [
    "stats = pd.concat([df.max(), df.min(), df.std(), df.mean()], axis=1)\n",
    "stats.columns = ['max', 'min', 'std', 'mean']\n",
    "stats"
   ]
  },
  {
   "cell_type": "code",
   "execution_count": null,
   "metadata": {},
   "outputs": [],
   "source": []
  }
 ],
 "metadata": {
  "kernelspec": {
   "display_name": "map412",
   "language": "python",
   "name": "python3"
  },
  "language_info": {
   "codemirror_mode": {
    "name": "ipython",
    "version": 3
   },
   "file_extension": ".py",
   "mimetype": "text/x-python",
   "name": "python",
   "nbconvert_exporter": "python",
   "pygments_lexer": "ipython3",
   "version": "3.11.4"
  }
 },
 "nbformat": 4,
 "nbformat_minor": 2
}
